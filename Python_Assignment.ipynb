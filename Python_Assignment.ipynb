{
  "nbformat": 4,
  "nbformat_minor": 0,
  "metadata": {
    "colab": {
      "provenance": []
    },
    "kernelspec": {
      "name": "python3",
      "display_name": "Python 3"
    },
    "language_info": {
      "name": "python"
    }
  },
  "cells": [
    {
      "cell_type": "markdown",
      "source": [
        "# 1.Write a program to find out the prime numbers"
      ],
      "metadata": {
        "id": "sNI6fAhUtdsh"
      }
    },
    {
      "cell_type": "code",
      "execution_count": null,
      "metadata": {
        "id": "oFEJZzxKs-gk"
      },
      "outputs": [],
      "source": [
        "# Checking For Prime Number\n",
        "num = int(input())\n",
        "# If given number is greater than 1\n",
        "if num > 1:\n",
        "\t# Iterate from 2 to n / 2\n",
        "\tfor i in range(2, int(num/2)+1):\n",
        "\t\t# If num is divisible by any number between\n",
        "\t\t# 2 and n / 2, it is not prime\n",
        "\t\tif (num % i) == 0:\n",
        "\t\t\tprint(num, \"is not a prime number\")\n",
        "\t\t\tbreak\n",
        "\telse:\n",
        "\t\tprint(num, \"is a prime number\")\n",
        "else:\n",
        "\tprint(num, \"is not a prime number\")"
      ]
    },
    {
      "cell_type": "markdown",
      "source": [
        "# 2.write a program to create the equation (a+b+c) * (a-b-c) * ab + a^2 + b ^2 + (abc)^3"
      ],
      "metadata": {
        "id": "lIRdrCx2t9N6"
      }
    },
    {
      "cell_type": "code",
      "source": [
        "a = 2\n",
        "b = 3\n",
        "c = 4\n",
        "\n",
        "equation = ((a + b + c) * (a - b - c) * a * b) + a ** 2 + b ** 2 + (a * b * c) ** 3\n",
        "\n",
        "print(\"The result of the equation is:\", equation)"
      ],
      "metadata": {
        "id": "EJMRYebVuBIY"
      },
      "execution_count": null,
      "outputs": []
    },
    {
      "cell_type": "markdown",
      "source": [
        "# 3. urlist = ['wood','knife','axe'] , mylist = ['tree', 'apple', 'mango', 'melon'] – combine two lists"
      ],
      "metadata": {
        "id": "SpIVfHFDuJVI"
      }
    },
    {
      "cell_type": "code",
      "source": [
        "# Combining Two List\n",
        "urlist = ['wood', 'knife', 'axe']\n",
        "mylist = ['tree', 'apple', 'mango', 'melon']\n",
        "New_List = urlist+mylist\n",
        "print(New_List)"
      ],
      "metadata": {
        "id": "nkOk3_CxuNWV"
      },
      "execution_count": null,
      "outputs": []
    },
    {
      "cell_type": "markdown",
      "source": [
        "# 4.write a program for natural number based on user input"
      ],
      "metadata": {
        "id": "bDSz129ruWgO"
      }
    },
    {
      "cell_type": "code",
      "source": [
        "number = int(input(\"Please Enter any Number: \"))\n",
        "\n",
        "print(\"The List of Natural Numbers from 1 to {0} are\".format(number))\n",
        "\n",
        "for i in range(1, number + 1):\n",
        "    print(i, end='  ')"
      ],
      "metadata": {
        "id": "Eo-q_vLHuaCp"
      },
      "execution_count": null,
      "outputs": []
    },
    {
      "cell_type": "markdown",
      "source": [
        "# 5.write class and function for the equation sqrt(x1-x2) ^ 2 + sqrt( y1 – y2 ) ^2 using try except handling"
      ],
      "metadata": {
        "id": "WoNQF-klugsz"
      }
    },
    {
      "cell_type": "code",
      "source": [
        "import math\n",
        "class DistanceCalculator:\n",
        "    def __init__(self, x1, y1, x2, y2):\n",
        "        self.x1 = x1\n",
        "        self.y1 = y1\n",
        "        self.x2 = x2\n",
        "        self.y2 = y2\n",
        "\n",
        "    def calculate_distance(self):\n",
        "        try:\n",
        "            x_diff = math.sqrt((self.x1 - self.x2) ** 2)\n",
        "            y_diff = math.sqrt((self.y1 - self.y2) ** 2)\n",
        "            distance = math.sqrt(x_diff ** 2 + y_diff ** 2)\n",
        "            return distance\n",
        "        except Exception as e:\n",
        "            print(f\"An error occurred: {e}\")\n",
        "            return None\n",
        "\n",
        "calculator = DistanceCalculator(0, 0, 3, 4)\n",
        "distance = calculator.calculate_distance()\n",
        "print(distance)"
      ],
      "metadata": {
        "id": "K9bcr8M3uklA"
      },
      "execution_count": null,
      "outputs": []
    },
    {
      "cell_type": "markdown",
      "source": [
        "# 6. Name = “Guvi python” - write a program to get “python” word from the string"
      ],
      "metadata": {
        "id": "3mnLsngDusSD"
      }
    },
    {
      "cell_type": "code",
      "source": [
        "# Getting a word from a string\n",
        "Name = 'Guvi python'\n",
        "print(Name[5:])"
      ],
      "metadata": {
        "id": "tSEVc4r4uv3o"
      },
      "execution_count": null,
      "outputs": []
    },
    {
      "cell_type": "markdown",
      "source": [
        "# 7.Using class and function - Write a program for palindrome Ex. Madam"
      ],
      "metadata": {
        "id": "JcY1-dcmu5sX"
      }
    },
    {
      "cell_type": "code",
      "source": [
        "class PalindromeChecker:\n",
        "    def __init__(self, input_str):\n",
        "        self.input_str = input_str\n",
        "\n",
        "    def is_palindrome(self):\n",
        "        return self.input_str == self.input_str[::-1]\n",
        "        \n",
        "def main():\n",
        "    input_str = input(\"Enter a string to check for palindrome: \")\n",
        "    palindrome_checker = PalindromeChecker(input_str)\n",
        "    if palindrome_checker.is_palindrome():\n",
        "        print(f\"{input_str} is a palindrome!\")\n",
        "    else:\n",
        "        print(f\"{input_str} is not a palindrome.\")\n",
        "\n",
        "\n",
        "if __name__ == \"__main__\":\n",
        "    main()\n"
      ],
      "metadata": {
        "id": "WvOoIPh4u_vQ"
      },
      "execution_count": null,
      "outputs": []
    },
    {
      "cell_type": "markdown",
      "source": [
        "# 8.using file handling – write a text file in ur system with “hello world”"
      ],
      "metadata": {
        "id": "u7fTFzgRvGp7"
      }
    },
    {
      "cell_type": "code",
      "source": [
        "# Using File Handling creating a text file\n",
        "f =open('word.txt', 'w')\n",
        "f.write('hello world')\n",
        "f.close()"
      ],
      "metadata": {
        "id": "BdX9d8VDvLHr"
      },
      "execution_count": null,
      "outputs": []
    },
    {
      "cell_type": "markdown",
      "source": [
        "# 9.create option button using tkinter GUI in python"
      ],
      "metadata": {
        "id": "siFeHxqQvT1b"
      }
    },
    {
      "cell_type": "code",
      "source": [
        "from tkinter import *\n",
        "window = Tk()\n",
        "window.title('Click Below')\n",
        "\n",
        "btn = Button(text='Option', fg='Black', bg='Lavender')\n",
        "\n",
        "btn.pack()\n",
        "\n",
        "window.mainloop()"
      ],
      "metadata": {
        "id": "cltslWH1vXwh"
      },
      "execution_count": null,
      "outputs": []
    },
    {
      "cell_type": "markdown",
      "source": [
        "# 10.Keep only numbers from the following string x = “ 89e9jcd^o38829@3%3,/mkl$w1”"
      ],
      "metadata": {
        "id": "_ZU0HGpsvmRj"
      }
    },
    {
      "cell_type": "code",
      "source": [
        "X = \"89e9jcd^o38829@3%3,/mkl$w1\"\n",
        "Num = filter(lambda x:x.isdigit(), X)\n",
        "Numbers = list(map(int, Num))\n",
        "print(Numbers)"
      ],
      "metadata": {
        "id": "kq4_FFSdvvW4"
      },
      "execution_count": null,
      "outputs": []
    }
  ]
}